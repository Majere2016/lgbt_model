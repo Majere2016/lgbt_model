{
 "cells": [
  {
   "cell_type": "code",
   "execution_count": 1066,
   "metadata": {},
   "outputs": [],
   "source": [
    "# 导入第三方库\n",
    "import warnings\n",
    "warnings.filterwarnings('ignore')\n",
    "import pandas as pd\n",
    "import numpy as np\n",
    "from sklearn.model_selection import train_test_split\n",
    "import lightgbm as lgb\n",
    "from sklearn import metrics\n",
    "from sklearn.metrics import roc_curve,roc_auc_score\n",
    "from tqdm import tqdm\n",
    "from sklearn.preprocessing import LabelEncoder\n",
    "# 显示所有列\n",
    "pd.set_option('display.max_columns', None)"
   ]
  },
  {
   "cell_type": "code",
   "execution_count": 1067,
   "metadata": {},
   "outputs": [],
   "source": [
    "# 读取数据\n",
    "train_data = pd.read_excel(\"./data/到期用户分析20210624.xlsx\")\n",
    "test_data = pd.read_excel(\"./data/test_data.xlsx\")\n",
    "test_data.drop(\"target\", axis=1, inplace=True)\n",
    "data = pd.concat([train_data, test_data], axis = 0).reset_index(drop = True)"
   ]
  },
  {
   "cell_type": "code",
   "execution_count": 1068,
   "metadata": {},
   "outputs": [],
   "source": [
    "# 缺失值填充\n",
    "data.fillna(-999, inplace=True)"
   ]
  },
  {
   "cell_type": "code",
   "execution_count": 1069,
   "metadata": {},
   "outputs": [],
   "source": [
    "# 性别编码\n",
    "data.replace([\"MALE\", \"FEMALE\"], [1, 0], inplace=True)\n",
    "\n",
    "# 分类特征编码\n",
    "data[\"network_net_type\"].replace({\"WIFI\":0, \"4G\":1, \"3G\":2}, inplace=True)\n",
    "\n",
    "data[\"device_brand\"].replace({\"motorola\":0, \"samsung\":1, \"HUAWEI\":2, \"ZTE\":3, \"lge\":4, \"Lenovo\":5, \"htc\":6,\n",
    "                             \"Nokia\":7, \"xiaomi\":8, \"TCL\": 9, \"LANIX\": 10, \"Redmi\":11, \"HONOR\":12,\n",
    "                             \"Hisense\":13, \"Alcatel\":14, \"OPPO\":15, \"Huawei\":2, \"Xiaomi\":8,\n",
    "                             \"Sony\":16, \"ZUUM\":17, \"BLU\":18, \"UMIDIGI\":19, \"KEMPLER_STRAUSS\":20,\n",
    "                             \"blackberry\":21, \"realme\":22, \"SELFIX\":23, \"GHIA\":24, \"POCO\":25, \"EVOO\":26,\n",
    "                             \"Verizon\":27, \"Mito\":28, \"TechPad\":29, \"HTC\":6}, inplace=True)"
   ]
  },
  {
   "cell_type": "code",
   "execution_count": 1070,
   "metadata": {},
   "outputs": [
    {
     "name": "stderr",
     "output_type": "stream",
     "text": [
      "Encode_LE is working:: 100%|████████████████████████████████████████████████████████████| 6/6 [00:00<00:00, 668.24it/s]"
     ]
    },
    {
     "name": "stdout",
     "output_type": "stream",
     "text": [
      "['education_code_marriage_code', 'education_code_job_code', 'education_code_income_code', 'marriage_code_job_code', 'marriage_code_income_code', 'job_code_income_code']\n"
     ]
    },
    {
     "name": "stderr",
     "output_type": "stream",
     "text": [
      "\n"
     ]
    }
   ],
   "source": [
    "# 特征衍生\n",
    "# label encoding\n",
    "def encode_LE(data, cols):\n",
    "    for f in tqdm(cols,desc='Encode_LE is working:'):\n",
    "        le = LabelEncoder()\n",
    "        le.fit(list(data[f].values))\n",
    "        data[f] = le.transform(list(data[f].values))\n",
    "        #data[f] =data[f].astype('category')\n",
    "    print(cols)\n",
    "    return data\n",
    "\n",
    "\n",
    "# combine category\n",
    "def encode_CB(df,combine_cols):\n",
    "    uids=[]\n",
    "    for i in range(len(combine_cols)-1):\n",
    "        for j in range(i+1,len(combine_cols)):\n",
    "            name = combine_cols[i]+'_'+combine_cols[j]\n",
    "            uids.append(name)\n",
    "            df[name] = df[combine_cols[i]].astype(str)+'_'+df[combine_cols[j]].astype(str)\n",
    "            df[name+'_FE'] = df[name].map(df[name].value_counts(dropna=True,normalize=True))\n",
    "            df[name+'_FE'] = df[name+\"_FE\"].astype('float32')\n",
    "    return df,uids\n",
    "\n",
    "\n",
    "data,uid = encode_CB(data, [\"education_code\", \"marriage_code\", \"job_code\", \"income_code\"])\n",
    "data = encode_LE(data, uid)"
   ]
  },
  {
   "cell_type": "code",
   "execution_count": 1071,
   "metadata": {},
   "outputs": [],
   "source": [
    "# 构建选举卡的邮政编码与用户填写的是否一致\n",
    "data['identify_base_postal_code'] = abs(data['identify_postal_code'] - data['base_postal_code'])\n",
    "\n",
    "\n",
    "def location_base(x):\n",
    "    base_state_city, location_state_city = x\n",
    "    if base_state_city == location_state_city:\n",
    "        return 1\n",
    "    else:\n",
    "        return 0"
   ]
  },
  {
   "cell_type": "code",
   "execution_count": 1072,
   "metadata": {},
   "outputs": [
    {
     "name": "stderr",
     "output_type": "stream",
     "text": [
      "100%|████████████████████████████████████████████████████████████████████████████████████| 5/5 [00:00<00:00, 89.53it/s]\n",
      "100%|█████████████████████████████████████████████████████████████████████████████████| 10/10 [00:00<00:00, 371.35it/s]\n",
      "100%|████████████████████████████████████████████████████████████████████████████████████| 5/5 [00:00<00:00, 45.17it/s]\n"
     ]
    }
   ],
   "source": [
    "# 特征工程\n",
    "# \"network_net_type\"\n",
    "cate_cols = [\"education_code\", \"marriage_code\", \"job_code\", \"income_code\", \"device_brand\"]\n",
    "cate_cols_combine = [[cate_cols[i], cate_cols[j]] for i in range(len(cate_cols)) \\\n",
    "                     for j in range(i + 1, len(cate_cols))]\n",
    "\n",
    "\n",
    "# 类别特征count、count ratio、onehot编码\n",
    "for f in tqdm(cate_cols):\n",
    "    data[f] = data[f].map(dict(zip(data[f].unique(), range(data[f].nunique()))))\n",
    "    data[f + '_count'] = data[f].map(data[f].value_counts())\n",
    "    data = pd.concat([data, pd.get_dummies(data[f], prefix=f\"{f}\")], axis=1)\n",
    "\n",
    "\n",
    "# 类别特征与类别特征交叉\n",
    "for f1, f2 in tqdm(cate_cols_combine):\n",
    "    data['{}_{}_count'.format(f1, f2)] = data.groupby([f1, f2])['user_id'].transform('count')\n",
    "    data['{}_in_{}_prop'.format(f1, f2)] = data['{}_{}_count'.format(f1, f2)] / data[f2 + '_count']\n",
    "    data['{}_in_{}_prop'.format(f2, f1)] = data['{}_{}_count'.format(f1, f2)] / data[f1 + '_count']\n",
    "\n",
    "\n",
    "#     \"extra_duration_second\",\"invalid_phone_number_sms_count_3d_rate\"\n",
    "# 类别特征与数值特征交叉\n",
    "num_cols = [\"battery_scale\", \"app_user_count\"]\n",
    "for f1 in tqdm(cate_cols):\n",
    "    g = data.groupby(f1)\n",
    "    for f2 in num_cols:\n",
    "        for i in ['sum', 'mean', 'std', 'max', 'min']:\n",
    "            data['{}_{}_{}'.format(f1, f2, i)] = g[f2].transform(i)\n",
    "        # 分组统计特征和基础特征线性组合\n",
    "        for j in ['sum', 'mean']:\n",
    "            data['{}_{}_{}_add'.format(f1, f2, j)] = data[f2] + g[f2].transform(j)\n",
    "            data['{}_{}_{}_diff'.format(f1, f2, j)] = data[f2] - g[f2].transform(j)\n",
    "            data['{}_{}_{}_multi'.format(f1, f2, j)] = data[f2] * g[f2].transform(j)\n",
    "            data['{}_{}_{}_div'.format(f1, f2, j)] = data[f2] / g[f2].transform(j)\n",
    "\n"
   ]
  },
  {
   "cell_type": "code",
   "execution_count": 1073,
   "metadata": {},
   "outputs": [
    {
     "name": "stdout",
     "output_type": "stream",
     "text": [
      "----------------------------------衍生特征数:422----------------------------------\n"
     ]
    }
   ],
   "source": [
    "# 切分训练集和测试集\n",
    "train_df = data[data[\"target\"] != -999].reset_index(drop=True)\n",
    "test_df = data[data[\"target\"] == -999].reset_index(drop=True)\n",
    "\n",
    "# 删除类别特征取值只有1个的\n",
    "drop_feats = [f for f in train_df.columns if train_df[f].nunique() == 1 or train_df[f].nunique() == 0]\n",
    "cols =  [col for col in train_df.columns if col not in [\"user_id\", \"target\", \"name\", \"father_last_name\", \"mother_last_name\", \"identify_state\", \n",
    "                                             \"identify_district\", \"base_state\", \"base_city\", \"location_state\", \"location_city\"]]\n",
    "print(\"----------------------------------衍生特征数:{}----------------------------------\".format(len(cols)))"
   ]
  },
  {
   "cell_type": "code",
   "execution_count": 1074,
   "metadata": {},
   "outputs": [],
   "source": [
    "def ks_score(y_val, pred_val):\n",
    "    fpr, tpr, thre = roc_curve(y_val, pred_val, pos_label=1)\n",
    "    return abs(fpr-tpr).max()"
   ]
  },
  {
   "cell_type": "code",
   "execution_count": 1102,
   "metadata": {
    "scrolled": true
   },
   "outputs": [
    {
     "name": "stdout",
     "output_type": "stream",
     "text": [
      "                                              importance\n",
      "feature                                                 \n",
      "invalid_phone_number_sms_count_3d                     64\n",
      "ocr_duration_second                                   60\n",
      "identity_duration_second                              57\n",
      "location_longitude                                    57\n",
      "user_contact_people_count                             57\n",
      "phone_number_area_code                                55\n",
      "extra_duration_second                                 55\n",
      "loan_count_rate_15d                                   54\n",
      "app_install_to_apply_standard_deviation_days          54\n",
      "invalid_phone_number_sms_count_3d_rate                54\n",
      "current_apply_loan_time_day_of_month                  54\n",
      "education_code_app_user_count_sum_diff                52\n",
      "invalid_phone_number_sms_count                        52\n",
      "loan_category_distributed_rate_30d                    52\n",
      "income_code_battery_scale_sum_add                     50\n",
      "location_latitude                                     49\n",
      "device_brand_app_user_count_sum_div                   49\n",
      "receive_3d_30d_rate                                   48\n",
      "education_code_battery_scale_sum_add                  48\n",
      "identify_postal_code                                  48\n",
      "distinct_valid_phone_number_count_7d                  47\n",
      "app_install_to_apply_median_days                      47\n",
      "count_30d                                             47\n",
      "receive_30d_rate                                      47\n",
      "sms_create_to_apply_max_days                          47\n",
      "p3_ip_credit_count_30d                                46\n",
      "loan_word_count_7d                                    46\n",
      "device_brand_battery_scale_sum_multi                  45\n",
      "sms_create_to_apply_median_days                       45\n",
      "app_user_rate_7d                                      45\n",
      "job_code_battery_scale_sum_multi                      44\n",
      "app_user_rate_90d                                     44\n",
      "auth_duration_second                                  44\n",
      "education_code_battery_scale_sum_diff                 43\n",
      "device_brand_app_user_count_mean_multi                42\n",
      "income_code_app_user_count_sum_multi                  42\n",
      "app_system_count                                      42\n",
      "base_postal_code                                      42\n",
      "income_code_app_user_count_sum_div                    42\n",
      "marriage_code_battery_scale_sum_multi                 41\n",
      "loan_count_rate_30d                                   41\n",
      "send_count                                            41\n",
      "loan_sms_count_15d                                    40\n",
      "loan_due_sms_count_7d                                 40\n",
      "loan_install_to_apply_max_days                        39\n",
      "sms_create_to_apply_standard_deviation_days           39\n",
      "marriage_code_in_job_code_prop                        39\n",
      "sms_create_to_apply_sum_days                          39\n",
      "age                                                   39\n",
      "job_code_battery_scale_sum_diff                       38\n"
     ]
    }
   ],
   "source": [
    "X = train_df[cols]\n",
    "y = train_df[\"target\"]\n",
    "X_train, X_test, y_train, y_test = train_test_split(X, y, test_size=.2, random_state=42)\n",
    "gbm = lgb.LGBMClassifier(boosting_type='gbdt', max_depth=-1, num_leaves=31, random_state=2021)\n",
    "gbm_model = gbm.fit(X_train, y_train) \n",
    "\n",
    "lgb_importance = pd.DataFrame()\n",
    "lgb_importance[\"feature\"] = X_train.columns\n",
    "lgb_importance[\"importance\"] = gbm_model.feature_importances_ \n",
    "lgb_importance.sort_values(by=[\"importance\"], ascending=False, inplace=True)\n",
    "lgb_importance.set_index('feature',drop=True, append=False, inplace=True)\n",
    "print(lgb_importance.head(50))"
   ]
  },
  {
   "cell_type": "code",
   "execution_count": 1103,
   "metadata": {
    "scrolled": true
   },
   "outputs": [
    {
     "name": "stdout",
     "output_type": "stream",
     "text": [
      "Ks Score : 0.3537 \n",
      "\n",
      "Accuracy : 0.7342\n",
      "AUC Score (Test): 0.687506\n",
      "预测坏样本数： 54\n",
      "召回率： 0.46153846153846156\n",
      "精确率： 0.5555555555555556\n",
      "lift值： 1.8974358974358976\n"
     ]
    }
   ],
   "source": [
    "y_pred = gbm_model.predict(X_test) \n",
    "y_predprob = gbm_model.predict_proba(X_test)[:, 1] \n",
    "# print(y_predprob)\n",
    "\n",
    "ks_value = ks_score(y_test, y_predprob)\n",
    "print(\"Ks Score : %.4g\" % ks_value, \"\\n\")\n",
    "print(\"Accuracy : %.4g\" % metrics.accuracy_score(y_test.values, y_pred))\n",
    "print(\"AUC Score (Test): %f\" % metrics.roc_auc_score(y_test, y_predprob))\n",
    "\n",
    "lgb_test = np.where(y_predprob>=0.5,1,0)\n",
    "# 坏样本数\n",
    "print(\"预测坏样本数：\", sum(np.where(y_predprob >= 0.5, 1, 0)))\n",
    "tpr = metrics.recall_score(list(y_test), list(lgb_test))  # pos_label=1，表示值为1的实际值为正样本\n",
    "print(\"召回率：\", tpr)\n",
    "# 精确率\n",
    "print(\"精确率：\", metrics.precision_score(list(y_test), list(lgb_test)))\n",
    "# lift值\n",
    "print(\"lift值：\", metrics.precision_score(list(y_test), list(lgb_test)) / y_test.mean())\n",
    "\n",
    "# test_preds = pd.DataFrame()\n",
    "# test_preds[\"user_id\"] = data.loc[y_test.index, \"user_id\"]\n",
    "# test_preds[\"target\"] = y_test\n",
    "# test_preds[\"y_pred\"] = y_predprob\n",
    "# test_preds.to_excel('test_preds.xlsx', index=False)"
   ]
  },
  {
   "cell_type": "code",
   "execution_count": 1101,
   "metadata": {},
   "outputs": [],
   "source": [
    "all_cols = list(lgb_importance.index)\n",
    "feature_nums = 70\n",
    "cols = all_cols[:feature_nums]\n",
    "# lift值: 1.977\n",
    "# Ks Score : 0.3676 "
   ]
  },
  {
   "cell_type": "code",
   "execution_count": 552,
   "metadata": {},
   "outputs": [],
   "source": [
    "all_cols = list(lgb_importance.index)\n",
    "feature_nums = 30\n",
    "cols = all_cols[:feature_nums]"
   ]
  },
  {
   "cell_type": "code",
   "execution_count": 1118,
   "metadata": {
    "scrolled": true
   },
   "outputs": [
    {
     "name": "stdout",
     "output_type": "stream",
     "text": [
      "['ocr_duration_second', 'invalid_phone_number_sms_count_3d', 'location_latitude', 'invalid_phone_number_sms_count_3d_rate', 'loan_count_rate_15d', 'location_longitude', 'education_code_app_user_count_sum_diff', 'device_brand_app_user_count_sum_div', 'app_install_to_apply_standard_deviation_days', 'receive_3d_30d_rate', 'send_count', 'education_code_battery_scale_sum_diff', 'identity_duration_second', 'current_apply_loan_time_day_of_month', 'loan_word_count_7d', 'phone_number_area_code', 'sms_create_to_apply_max_days', 'loan_due_sms_count', 'education_code_battery_scale_sum_add', 'user_contact_people_count', 'receive_30d_rate', 'identify_postal_code', 'loan_category_distributed_rate_30d', 'app_install_to_apply_median_days', 'auth_duration_second', 'distinct_valid_phone_number_count_7d', 'age', 'face_compare_duration_second', 'app_total_count', 'loan_due_sms_count_7d', 'extra_duration_second', 'count_30d', 'job_code_battery_scale_sum_multi', 'one_day_max_count', 'job_code_app_user_count_sum_div', 'marriage_code_battery_scale_sum_multi', 'sms_create_to_apply_standard_deviation_days', 'loan_count_rate_90d', 'invalid_phone_number_sms_count', 'app_user_rate_90d', 'income_code_battery_scale_mean_div', 'sms_create_to_apply_sum_days', 'education_code_job_code', 'loan_install_to_apply_average_days', 'loan_count_rate_30d', 'app_user_count_90d', 'loan_sms_count_7d', 'job_code_in_income_code_prop', 'device_brand_battery_scale_sum_multi', 'income_code_app_user_count_sum_div', 'loan_category_distributed_rate_7d', 'base_postal_code', 'loan_install_to_apply_max_days', 'job_code_battery_scale_sum_diff', 'app_system_count', 'income_code_in_device_brand_prop', 'income_code_in_job_code_prop', 'loan_sms_count_15d', 'marriage_code_battery_scale_sum_diff', 'device_brand_app_user_count_sum_multi', 'income_code_app_user_count_sum_multi', 'loan_install_to_apply_median_days', 'p3_ip_credit_count_30d', 'income_code_battery_scale_sum_div', 'sms_create_to_apply_median_days', 'marriage_code_in_job_code_prop', 'income_code_battery_scale_sum_add', 'device_brand_app_user_count_mean_multi', 'job_code_income_code', 'app_user_rate_7d']\n"
     ]
    }
   ],
   "source": [
    "# 打印入模特征\n",
    "print(cols)"
   ]
  },
  {
   "cell_type": "code",
   "execution_count": 1105,
   "metadata": {},
   "outputs": [],
   "source": [
    "# 测试集预测\n",
    "test_x = test_df[cols]\n",
    "y_pred = gbm_model.predict(test_x) \n",
    "y_predprob = gbm_model.predict_proba(test_x)[:, 1]  \n",
    "\n",
    "test_preds = pd.DataFrame()\n",
    "test_preds[\"user_id\"] = test_df[\"user_id\"]\n",
    "test_preds[\"y_pred\"] = y_predprob\n",
    "test_preds.to_excel('test_preds.xlsx', index=False)"
   ]
  },
  {
   "cell_type": "code",
   "execution_count": 1121,
   "metadata": {},
   "outputs": [],
   "source": [
    "# lgb转pmml\n",
    "# 法一\n",
    "from sklearn_pandas import DataFrameMapper\n",
    "from sklearn.preprocessing import LabelBinarizer\n",
    "from sklearn2pmml import sklearn2pmml\n",
    "from sklearn2pmml.decoration import CategoricalDomain, ContinuousDomain\n",
    "from sklearn2pmml.pipeline import PMMLPipeline\n",
    "\n",
    "cat_columns = [\"Education\", \"Employment\", \"Marital\", \"Occupation\"]\n",
    "cont_columns = ['ocr_duration_second', 'invalid_phone_number_sms_count_3d', 'location_latitude', 'invalid_phone_number_sms_count_3d_rate', 'loan_count_rate_15d', 'location_longitude', 'education_code_app_user_count_sum_diff', 'device_brand_app_user_count_sum_div', 'app_install_to_apply_standard_deviation_days', 'receive_3d_30d_rate', 'send_count', 'education_code_battery_scale_sum_diff', 'identity_duration_second', 'current_apply_loan_time_day_of_month', 'loan_word_count_7d', 'phone_number_area_code', 'sms_create_to_apply_max_days', 'loan_due_sms_count', 'education_code_battery_scale_sum_add', 'user_contact_people_count', 'receive_30d_rate', 'identify_postal_code', 'loan_category_distributed_rate_30d', 'app_install_to_apply_median_days', 'auth_duration_second', 'distinct_valid_phone_number_count_7d', 'age', 'face_compare_duration_second', 'app_total_count', 'loan_due_sms_count_7d', 'extra_duration_second', 'count_30d', 'job_code_battery_scale_sum_multi', 'one_day_max_count', 'job_code_app_user_count_sum_div', 'marriage_code_battery_scale_sum_multi', 'sms_create_to_apply_standard_deviation_days', 'loan_count_rate_90d', 'invalid_phone_number_sms_count', 'app_user_rate_90d', 'income_code_battery_scale_mean_div', 'sms_create_to_apply_sum_days', 'education_code_job_code', 'loan_install_to_apply_average_days', 'loan_count_rate_30d', 'app_user_count_90d', 'loan_sms_count_7d', 'job_code_in_income_code_prop', 'device_brand_battery_scale_sum_multi', 'income_code_app_user_count_sum_div', 'loan_category_distributed_rate_7d', 'base_postal_code', 'loan_install_to_apply_max_days', 'job_code_battery_scale_sum_diff', 'app_system_count', 'income_code_in_device_brand_prop', 'income_code_in_job_code_prop', 'loan_sms_count_15d', 'marriage_code_battery_scale_sum_diff', 'device_brand_app_user_count_sum_multi', 'income_code_app_user_count_sum_multi', 'loan_install_to_apply_median_days', 'p3_ip_credit_count_30d', 'income_code_battery_scale_sum_div', 'sms_create_to_apply_median_days', 'marriage_code_in_job_code_prop', 'income_code_battery_scale_sum_add', 'device_brand_app_user_count_mean_multi', 'job_code_income_code', 'app_user_rate_7d']\n",
    "\n",
    "mapper = DataFrameMapper(\n",
    "  [(cont_columns, ContinuousDomain())]\n",
    ")\n",
    "pipeline = PMMLPipeline([\n",
    "  (\"mapper\", mapper),\n",
    "  (\"classifier\", gbm)\n",
    "])\n",
    "pipeline.fit(X_train, y_train)\n",
    "\n",
    "sklearn2pmml(pipeline, \"LightGBMAudit.pmml\") "
   ]
  },
  {
   "cell_type": "code",
   "execution_count": 1125,
   "metadata": {},
   "outputs": [],
   "source": [
    "# 法二\n",
    "from sklearn2pmml import sklearn2pmml\n",
    "from sklearn2pmml.pipeline import PMMLPipeline\n",
    "pipeline = PMMLPipeline([\n",
    "    (\"classifier\", gbm)\n",
    "])\n",
    "X_train = X_train[cols]\n",
    "pipeline.fit(X_train, y_train)\n",
    "sklearn2pmml(pipeline, \"LightGBMAudit.pmml\", with_repr = True)"
   ]
  },
  {
   "cell_type": "code",
   "execution_count": 1126,
   "metadata": {},
   "outputs": [],
   "source": [
    "# oot预测\n",
    "test_x = test_df[cols]\n",
    "y_predprob = pipeline.predict_proba(test_x)[:, 1]  \n",
    "\n",
    "test_preds_pipeline = pd.DataFrame()\n",
    "test_preds_pipeline[\"user_id\"] = test_df[\"user_id\"]\n",
    "test_preds_pipeline[\"y_pred\"] = y_predprob\n",
    "test_preds_pipeline.to_excel('test_preds_pipeline.xlsx', index=False)"
   ]
  },
  {
   "cell_type": "code",
   "execution_count": null,
   "metadata": {},
   "outputs": [],
   "source": []
  }
 ],
 "metadata": {
  "kernelspec": {
   "display_name": "Python 3",
   "language": "python",
   "name": "python3"
  },
  "language_info": {
   "codemirror_mode": {
    "name": "ipython",
    "version": 3
   },
   "file_extension": ".py",
   "mimetype": "text/x-python",
   "name": "python",
   "nbconvert_exporter": "python",
   "pygments_lexer": "ipython3",
   "version": "3.8.5"
  }
 },
 "nbformat": 4,
 "nbformat_minor": 4
}
